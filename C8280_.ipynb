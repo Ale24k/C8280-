{
  "nbformat": 4,
  "nbformat_minor": 0,
  "metadata": {
    "colab": {
      "provenance": []
    },
    "kernelspec": {
      "name": "python3",
      "display_name": "Python 3"
    },
    "language_info": {
      "name": "python"
    }
  },
  "cells": [
    {
      "cell_type": "code",
      "execution_count": 5,
      "metadata": {
        "id": "dw8vcuKKeyPn"
      },
      "outputs": [],
      "source": [
        "import pandas as pd "
      ]
    },
    {
      "cell_type": "markdown",
      "source": [
        "1. \n",
        "a) En la parte de las filas se pueden observar las categorias como el id de orden, cantidad, nombre de item, etc.\n",
        "\n",
        "b) Para la parte de las columnas lleva un enumerado desde el 0 para llevar un orden."
      ],
      "metadata": {
        "id": "WsuH9r3vgUaH"
      }
    },
    {
      "cell_type": "code",
      "source": [
        "data = pd.read_table(\"data.tsv\")\n",
        "print(data)"
      ],
      "metadata": {
        "colab": {
          "base_uri": "https://localhost:8080/"
        },
        "id": "pwd4WLhne2j7",
        "outputId": "c0a0a628-6ce8-4dc3-dced-39356d14f059"
      },
      "execution_count": 18,
      "outputs": [
        {
          "output_type": "stream",
          "name": "stdout",
          "text": [
            "      order_id  quantity                              item_name  \\\n",
            "0            1         1           Chips and Fresh Tomato Salsa   \n",
            "1            1         1                                   Izze   \n",
            "2            1         1                       Nantucket Nectar   \n",
            "3            1         1  Chips and Tomatillo-Green Chili Salsa   \n",
            "4            2         2                           Chicken Bowl   \n",
            "...        ...       ...                                    ...   \n",
            "4617      1833         1                          Steak Burrito   \n",
            "4618      1833         1                          Steak Burrito   \n",
            "4619      1834         1                     Chicken Salad Bowl   \n",
            "4620      1834         1                     Chicken Salad Bowl   \n",
            "4621      1834         1                     Chicken Salad Bowl   \n",
            "\n",
            "                                     choice_description item_price  \n",
            "0                                                   NaN     $2.39   \n",
            "1                                          [Clementine]     $3.39   \n",
            "2                                               [Apple]     $3.39   \n",
            "3                                                   NaN     $2.39   \n",
            "4     [Tomatillo-Red Chili Salsa (Hot), [Black Beans...    $16.98   \n",
            "...                                                 ...        ...  \n",
            "4617  [Fresh Tomato Salsa, [Rice, Black Beans, Sour ...    $11.75   \n",
            "4618  [Fresh Tomato Salsa, [Rice, Sour Cream, Cheese...    $11.75   \n",
            "4619  [Fresh Tomato Salsa, [Fajita Vegetables, Pinto...    $11.25   \n",
            "4620  [Fresh Tomato Salsa, [Fajita Vegetables, Lettu...     $8.75   \n",
            "4621  [Fresh Tomato Salsa, [Fajita Vegetables, Pinto...     $8.75   \n",
            "\n",
            "[4622 rows x 5 columns]\n"
          ]
        }
      ]
    },
    {
      "cell_type": "code",
      "source": [
        "cant = data[\"order_id\"].count()"
      ],
      "metadata": {
        "colab": {
          "base_uri": "https://localhost:8080/"
        },
        "id": "8RyN56McguTy",
        "outputId": "2bb3bc1a-800f-410d-e683-798f52085fbe"
      },
      "execution_count": 13,
      "outputs": [
        {
          "output_type": "stream",
          "name": "stdout",
          "text": [
            "4622\n"
          ]
        }
      ]
    },
    {
      "cell_type": "markdown",
      "source": [
        "2. Al ejecutar la tabla y visualizar se puede ver a simple vista el numero final de items que podemos tomar también como filas en todo el archivo. También podemos ejecutar el comando de arriba para saber con exactitud la cantidad.\n",
        "Solo tomo en cuenta la cantidad de ordenes por persona, no por cantidad de pedidos, si no por persona.\n"
      ],
      "metadata": {
        "id": "Bx8UIlfXioYH"
      }
    },
    {
      "cell_type": "markdown",
      "source": [
        "**Cantidad de lineas** "
      ],
      "metadata": {
        "id": "XtweLkSeg4mE"
      }
    },
    {
      "cell_type": "code",
      "source": [
        "cantidad_lineas = data.shape[0]\n",
        "print(cantidad_lineas)"
      ],
      "metadata": {
        "colab": {
          "base_uri": "https://localhost:8080/"
        },
        "id": "QwVFwUZRj2Fm",
        "outputId": "7af92a5f-92c9-4f8f-f6de-3abdab4bcfdc"
      },
      "execution_count": 22,
      "outputs": [
        {
          "output_type": "stream",
          "name": "stdout",
          "text": [
            "4622\n"
          ]
        }
      ]
    },
    {
      "cell_type": "markdown",
      "source": [
        "**Burrito más popular**"
      ],
      "metadata": {
        "id": "AvvufMwZlp7i"
      }
    },
    {
      "cell_type": "code",
      "source": [
        "filt = data['item_name'].isin(['Steak Burrito', 'Chicken Burrito'])\n",
        "df_burritos = data[filt]\n",
        "\n",
        "df_popularidad = df_burritos.groupby('item_name')['quantity'].sum()\n",
        "burrito_mas_popular = df_popularidad.idxmax()\n",
        "print(\"El burrito más popular es el:\", burrito_mas_popular)\n"
      ],
      "metadata": {
        "colab": {
          "base_uri": "https://localhost:8080/"
        },
        "id": "2hRjRiUblF8x",
        "outputId": "31056d89-3e04-4b79-a428-da1a67c3142d"
      },
      "execution_count": 29,
      "outputs": [
        {
          "output_type": "stream",
          "name": "stdout",
          "text": [
            "El burrito más popular es el: Chicken Burrito\n"
          ]
        }
      ]
    },
    {
      "cell_type": "markdown",
      "source": [
        "¿Los burritos de pollo suelen tener frijoles negros o frijoles pintos?"
      ],
      "metadata": {
        "id": "y1OKIRZult3-"
      }
    },
    {
      "cell_type": "code",
      "source": [
        "filt_burrito = data['item_name'] == 'Chicken Burrito'\n",
        "df_chicken_burrito = data[filt_burrito]\n",
        "filt_beans = df_chicken_burrito['choice_description'].str.contains('Black Beans|Pinto Beans', na=False)\n",
        "df_beans = df_chicken_burrito[filt_beans]\n",
        "frecuencia_black_beans = df_beans['choice_description'].str.contains('Black Beans', na=False).sum()\n",
        "frecuencia_pinto_beans = df_beans['choice_description'].str.contains('Pinto Beans', na=False).sum()\n",
        "resultado = \"Frijoles negros\" if frecuencia_black_beans > frecuencia_pinto_beans else \"Frijoles pinto\"\n",
        "print(\"Los burritos de pollo suelen tener:\", resultado)\n"
      ],
      "metadata": {
        "colab": {
          "base_uri": "https://localhost:8080/"
        },
        "id": "94hvvWgqnKU7",
        "outputId": "839705ed-1373-456c-b3fe-fdb53d0ec58c"
      },
      "execution_count": 35,
      "outputs": [
        {
          "output_type": "stream",
          "name": "stdout",
          "text": [
            "Los burritos de pollo suelen tener: Frijoles negros\n"
          ]
        }
      ]
    }
  ]
}